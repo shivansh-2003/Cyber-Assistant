{
 "cells": [
  {
   "cell_type": "code",
   "execution_count": 4,
   "metadata": {},
   "outputs": [
    {
     "data": {
      "text/plain": [
       "True"
      ]
     },
     "execution_count": 4,
     "metadata": {},
     "output_type": "execute_result"
    }
   ],
   "source": [
    "import getpass\n",
    "import os\n",
    "from dotenv import load_dotenv\n",
    "\n",
    "# Load environment variables\n",
    "load_dotenv()"
   ]
  },
  {
   "cell_type": "code",
   "execution_count": 6,
   "metadata": {},
   "outputs": [],
   "source": [
    "import glob\n",
    "from supabase.client import Client, create_client\n",
    "from langchain.text_splitter import RecursiveCharacterTextSplitter\n",
    "from langchain_openai import OpenAIEmbeddings\n",
    "from langchain.schema import Document\n",
    "from langchain_core.prompts import ChatPromptTemplate\n",
    "from langchain_core.output_parsers import StrOutputParser\n",
    "from langchain_community.document_loaders import PyPDFLoader\n",
    "from langchain_community.tools.tavily_search import TavilySearchResults\n",
    "from langgraph.graph import END, StateGraph, START\n",
    "from typing import List, Dict, Any\n",
    "from typing_extensions import TypedDict"
   ]
  },
  {
   "cell_type": "code",
   "execution_count": 7,
   "metadata": {},
   "outputs": [],
   "source": [
    "# initiate supabase db\n",
    "supabase_url = os.environ.get(\"SUPABASE_URL\")\n",
    "supabase_key = os.environ.get(\"SUPABASE_KEY\")\n",
    "supabase: Client = create_client(supabase_url, supabase_key)"
   ]
  },
  {
   "cell_type": "code",
   "execution_count": 21,
   "metadata": {},
   "outputs": [],
   "source": [
    "import os\n",
    "\n",
    "def load_and_split_pdfs(pdf_directory: str, chunk_size: int = 500, chunk_overlap: int = 50) -> List[Document]:\n",
    "    \"\"\"\n",
    "    Load and split PDFs from a directory with enhanced metadata and error handling.\n",
    "    \"\"\"\n",
    "    all_docs = []\n",
    "    text_splitter = RecursiveCharacterTextSplitter(\n",
    "        chunk_size=chunk_size,\n",
    "        chunk_overlap=chunk_overlap,\n",
    "        separators=[\"\\n\\n\", \"\\n\", \".\", \"!\", \"?\", \",\", \" \", \"\"],\n",
    "        length_function=len\n",
    "    )\n",
    "    \n",
    "    pdf_files = [f for f in os.listdir(pdf_directory) if f.endswith('.pdf')]  # List all PDF files in the directory\n",
    "    \n",
    "    for pdf in pdf_files:\n",
    "        pdf_path = os.path.join(pdf_directory, pdf)\n",
    "        try:\n",
    "            print(f\"Processing PDF: {pdf_path}\")  # Inform about the PDF being processed\n",
    "            loader = PyPDFLoader(pdf_path)\n",
    "            docs = loader.load()\n",
    "            \n",
    "            # Enhance metadata\n",
    "            for doc in docs:\n",
    "                doc.metadata.update({\n",
    "                    \"source\": pdf_path,\n",
    "                    \"document_type\": \"pdf\",\n",
    "                    \"chunk_size\": chunk_size,\n",
    "                    \"chunk_overlap\": chunk_overlap\n",
    "                })\n",
    "            \n",
    "            split_docs = text_splitter.split_documents(docs)\n",
    "            all_docs.extend(split_docs)\n",
    "            print(f\"Successfully processed {len(split_docs)} chunks from {pdf_path}\")\n",
    "            \n",
    "        except Exception as e:\n",
    "            print(f\"Error processing {pdf_path}: {str(e)}\")  # Inform about any errors\n",
    "    \n",
    "    return all_docs"
   ]
  },
  {
   "cell_type": "code",
   "execution_count": 22,
   "metadata": {},
   "outputs": [
    {
     "name": "stdout",
     "output_type": "stream",
     "text": [
      "Processing PDF: /Users/shivanshmahajan/Desktop/Cyber/the_content/Red Team - How to Succeed by Thinking Like the Enemy by Micah Zenko.pdf\n",
      "Successfully processed 1781 chunks from /Users/shivanshmahajan/Desktop/Cyber/the_content/Red Team - How to Succeed by Thinking Like the Enemy by Micah Zenko.pdf\n",
      "Processing PDF: /Users/shivanshmahajan/Desktop/Cyber/the_content/dokumen.pub_open-source-intelligence-techniques-resources-for-searching-and-analyzing-online-information-8nbsped-9798578577086.pdf\n",
      "Successfully processed 3799 chunks from /Users/shivanshmahajan/Desktop/Cyber/the_content/dokumen.pub_open-source-intelligence-techniques-resources-for-searching-and-analyzing-online-information-8nbsped-9798578577086.pdf\n",
      "Processing PDF: /Users/shivanshmahajan/Desktop/Cyber/the_content/defensive-security-handbook-best-practices-for-securing-infrastructure-1nbsped-1491960388-9781491960387_compress.pdf\n",
      "Successfully processed 1295 chunks from /Users/shivanshmahajan/Desktop/Cyber/the_content/defensive-security-handbook-best-practices-for-securing-infrastructure-1nbsped-1491960388-9781491960387_compress.pdf\n",
      "Processing PDF: /Users/shivanshmahajan/Desktop/Cyber/the_content/security-cissp-all-in-one-exam-guide-6th-edition.pdf\n",
      "Successfully processed 8785 chunks from /Users/shivanshmahajan/Desktop/Cyber/the_content/security-cissp-all-in-one-exam-guide-6th-edition.pdf\n",
      "Processing PDF: /Users/shivanshmahajan/Desktop/Cyber/the_content/Incident Response and Computer Forensics 2nd ed. - C. Prosise, K. Mandia (2003) WW.pdf\n",
      "Successfully processed 2566 chunks from /Users/shivanshmahajan/Desktop/Cyber/the_content/Incident Response and Computer Forensics 2nd ed. - C. Prosise, K. Mandia (2003) WW.pdf\n",
      "Processing PDF: /Users/shivanshmahajan/Desktop/Cyber/the_content/dokumen.pub_osint-techniques-resources-for-uncovering-online-information-10th-edition-2023-10nbsped-9798366360401.pdf\n",
      "Successfully processed 4174 chunks from /Users/shivanshmahajan/Desktop/Cyber/the_content/dokumen.pub_osint-techniques-resources-for-uncovering-online-information-10th-edition-2023-10nbsped-9798366360401.pdf\n",
      "Processing PDF: /Users/shivanshmahajan/Desktop/Cyber/the_content/cybersecurity-for-executives-9781118908815.pdf\n",
      "Successfully processed 2854 chunks from /Users/shivanshmahajan/Desktop/Cyber/the_content/cybersecurity-for-executives-9781118908815.pdf\n",
      "Processing PDF: /Users/shivanshmahajan/Desktop/Cyber/the_content/Real-World Bug Hunting - A Field Guide to Web Hacking by Peter Yaworski.pdf\n",
      "Successfully processed 1281 chunks from /Users/shivanshmahajan/Desktop/Cyber/the_content/Real-World Bug Hunting - A Field Guide to Web Hacking by Peter Yaworski.pdf\n",
      "Processing PDF: /Users/shivanshmahajan/Desktop/Cyber/the_content/zero-trust-security-an-enterprise-guide-148426701x-9781484267011_compress.pdf\n",
      "Successfully processed 1566 chunks from /Users/shivanshmahajan/Desktop/Cyber/the_content/zero-trust-security-an-enterprise-guide-148426701x-9781484267011_compress.pdf\n",
      "Processing PDF: /Users/shivanshmahajan/Desktop/Cyber/the_content/Cybersecurity Blue Team Toolkit.pdf\n",
      "Error processing /Users/shivanshmahajan/Desktop/Cyber/the_content/Cybersecurity Blue Team Toolkit.pdf: Invalid Elementary Object starting with b'T' @5326: b'm)13.1 (p).8 (m ) 0 Tw 10)-57..6 m]TJ\\n/T1_4 1 Tf\\nv)2 2 (ln)11.9 (dc)-1.9 ((d)22 '\n",
      "Processing PDF: /Users/shivanshmahajan/Desktop/Cyber/the_content/cloud-native-security-1nbsped-1119782236-9781119782230_compress.pdf\n",
      "Successfully processed 1439 chunks from /Users/shivanshmahajan/Desktop/Cyber/the_content/cloud-native-security-1nbsped-1119782236-9781119782230_compress.pdf\n",
      "Processing PDF: /Users/shivanshmahajan/Desktop/Cyber/the_content/Social Engineering The Science of Human Hacking 2nd Edition.pdf\n",
      "Successfully processed 1340 chunks from /Users/shivanshmahajan/Desktop/Cyber/the_content/Social Engineering The Science of Human Hacking 2nd Edition.pdf\n",
      "Processing PDF: /Users/shivanshmahajan/Desktop/Cyber/the_content/20210625-Red_Teaming_Handbook.pdf\n",
      "Successfully processed 425 chunks from /Users/shivanshmahajan/Desktop/Cyber/the_content/20210625-Red_Teaming_Handbook.pdf\n",
      "Processing PDF: /Users/shivanshmahajan/Desktop/Cyber/the_content/Security Policies and Procedures.pdf\n",
      "Successfully processed 3375 chunks from /Users/shivanshmahajan/Desktop/Cyber/the_content/Security Policies and Procedures.pdf\n",
      "Processing PDF: /Users/shivanshmahajan/Desktop/Cyber/the_content/9780135619858_Sample.pdf\n",
      "Successfully processed 664 chunks from /Users/shivanshmahajan/Desktop/Cyber/the_content/9780135619858_Sample.pdf\n",
      "Processing PDF: /Users/shivanshmahajan/Desktop/Cyber/the_content/windows-forensic-analysis-toolkit-advanced-analysis-techniques-for-windows-7-3nbsped-1597497274-9781597497275_compress.pdf\n",
      "Successfully processed 1732 chunks from /Users/shivanshmahajan/Desktop/Cyber/the_content/windows-forensic-analysis-toolkit-advanced-analysis-techniques-for-windows-7-3nbsped-1597497274-9781597497275_compress.pdf\n",
      "Processing PDF: /Users/shivanshmahajan/Desktop/Cyber/the_content/security3.pdf\n",
      "Successfully processed 1720 chunks from /Users/shivanshmahajan/Desktop/Cyber/the_content/security3.pdf\n",
      "Processing PDF: /Users/shivanshmahajan/Desktop/Cyber/the_content/practicalmalwareanalysis.pdf\n",
      "Successfully processed 4125 chunks from /Users/shivanshmahajan/Desktop/Cyber/the_content/practicalmalwareanalysis.pdf\n",
      "Processing PDF: /Users/shivanshmahajan/Desktop/Cyber/the_content/BAE+Systems+Cyber+security+Chapter+final.pdf\n",
      "Successfully processed 54 chunks from /Users/shivanshmahajan/Desktop/Cyber/the_content/BAE+Systems+Cyber+security+Chapter+final.pdf\n",
      "Processing PDF: /Users/shivanshmahajan/Desktop/Cyber/the_content/Kubernetes Security - Operating Kubernetes Clusters and Applications Safely.pdf\n",
      "Successfully processed 302 chunks from /Users/shivanshmahajan/Desktop/Cyber/the_content/Kubernetes Security - Operating Kubernetes Clusters and Applications Safely.pdf\n",
      "Processing PDF: /Users/shivanshmahajan/Desktop/Cyber/the_content/how-to-build-a-cyber-resilient-organization-first-edition-9780429400339_compress.pdf\n",
      "Successfully processed 1967 chunks from /Users/shivanshmahajan/Desktop/Cyber/the_content/how-to-build-a-cyber-resilient-organization-first-edition-9780429400339_compress.pdf\n",
      "Processing PDF: /Users/shivanshmahajan/Desktop/Cyber/the_content/huntpedia.pdf\n",
      "Successfully processed 425 chunks from /Users/shivanshmahajan/Desktop/Cyber/the_content/huntpedia.pdf\n",
      "Processing PDF: /Users/shivanshmahajan/Desktop/Cyber/the_content/dokumen.pub_cybersecurity-essentials-9781119362395-9781119362432-9781119362456-2018943782.pdf\n",
      "Successfully processed 2946 chunks from /Users/shivanshmahajan/Desktop/Cyber/the_content/dokumen.pub_cybersecurity-essentials-9781119362395-9781119362432-9781119362456-2018943782.pdf\n",
      "Processing PDF: /Users/shivanshmahajan/Desktop/Cyber/the_content/dokumen.pub_blue-team-handbook-soc-siem-amp-threats-hunting-use-cases-notes-from-fields-v102-9781021493896.pdf\n",
      "Successfully processed 0 chunks from /Users/shivanshmahajan/Desktop/Cyber/the_content/dokumen.pub_blue-team-handbook-soc-siem-amp-threats-hunting-use-cases-notes-from-fields-v102-9781021493896.pdf\n",
      "Processing PDF: /Users/shivanshmahajan/Desktop/Cyber/the_content/wheeler_evan_security_risk_management_building_an_informatio.pdf\n",
      "Successfully processed 2116 chunks from /Users/shivanshmahajan/Desktop/Cyber/the_content/wheeler_evan_security_risk_management_building_an_informatio.pdf\n",
      "Processing PDF: /Users/shivanshmahajan/Desktop/Cyber/the_content/Advanced Penetration Testing - Hacking the World's Most Secure Networks by Wil Allsopp.pdf\n",
      "Successfully processed 1105 chunks from /Users/shivanshmahajan/Desktop/Cyber/the_content/Advanced Penetration Testing - Hacking the World's Most Secure Networks by Wil Allsopp.pdf\n",
      "Processing PDF: /Users/shivanshmahajan/Desktop/Cyber/the_content/Jon Erickson - Hacking Art of Exploitation.pdf\n",
      "Successfully processed 2611 chunks from /Users/shivanshmahajan/Desktop/Cyber/the_content/Jon Erickson - Hacking Art of Exploitation.pdf\n",
      "Processing PDF: /Users/shivanshmahajan/Desktop/Cyber/the_content/1705090770-o-reilly-security-final-ebook.pdf\n",
      "Successfully processed 1229 chunks from /Users/shivanshmahajan/Desktop/Cyber/the_content/1705090770-o-reilly-security-final-ebook.pdf\n",
      "Processing PDF: /Users/shivanshmahajan/Desktop/Cyber/the_content/python-digital-forensics-cookbook-1-9781783987467-1783987464-9781783987474-1783987472_compress.pdf\n",
      "Successfully processed 1580 chunks from /Users/shivanshmahajan/Desktop/Cyber/the_content/python-digital-forensics-cookbook-1-9781783987467-1783987464-9781783987474-1783987472_compress.pdf\n",
      "Processing PDF: /Users/shivanshmahajan/Desktop/Cyber/the_content/The Hacker Playbook 2, Practical Guide To Penetration Testing By Peter Kim.pdf\n",
      "Successfully processed 1142 chunks from /Users/shivanshmahajan/Desktop/Cyber/the_content/The Hacker Playbook 2, Practical Guide To Penetration Testing By Peter Kim.pdf\n",
      "Processing PDF: /Users/shivanshmahajan/Desktop/Cyber/the_content/cybersecurity-managers-guide-security.pdf\n",
      "Successfully processed 880 chunks from /Users/shivanshmahajan/Desktop/Cyber/the_content/cybersecurity-managers-guide-security.pdf\n",
      "Processing PDF: /Users/shivanshmahajan/Desktop/Cyber/the_content/toaz.info-red-team-development-and-operations-a-practical-guide-by-joe-vest-james-tubbe-pr_45c6b5167b2e2f433330da907a6faea7.pdf\n",
      "Successfully processed 698 chunks from /Users/shivanshmahajan/Desktop/Cyber/the_content/toaz.info-red-team-development-and-operations-a-practical-guide-by-joe-vest-james-tubbe-pr_45c6b5167b2e2f433330da907a6faea7.pdf\n",
      "Processing PDF: /Users/shivanshmahajan/Desktop/Cyber/the_content/Open_Source_Intelligence_Techniques-Lite.pdf\n",
      "Successfully processed 2797 chunks from /Users/shivanshmahajan/Desktop/Cyber/the_content/Open_Source_Intelligence_Techniques-Lite.pdf\n",
      "Processing PDF: /Users/shivanshmahajan/Desktop/Cyber/the_content/practical-social-engineering-a-primer-for-the-ethical-hacker-1nbsped-171850098x-9781718500983_compress.pdf\n",
      "Successfully processed 989 chunks from /Users/shivanshmahajan/Desktop/Cyber/the_content/practical-social-engineering-a-primer-for-the-ethical-hacker-1nbsped-171850098x-9781718500983_compress.pdf\n",
      "Processing PDF: /Users/shivanshmahajan/Desktop/Cyber/the_content/NIST.SP.800-53r5.pdf\n",
      "Successfully processed 3833 chunks from /Users/shivanshmahajan/Desktop/Cyber/the_content/NIST.SP.800-53r5.pdf\n",
      "Processing PDF: /Users/shivanshmahajan/Desktop/Cyber/the_content/Pentesting Azure Applications The Definitive Guide to Testing and Securing Deployments.pdf\n",
      "Successfully processed 1061 chunks from /Users/shivanshmahajan/Desktop/Cyber/the_content/Pentesting Azure Applications The Definitive Guide to Testing and Securing Deployments.pdf\n",
      "Processing PDF: /Users/shivanshmahajan/Desktop/Cyber/the_content/The Art of Memory Forensics - Detecting Malware and Threats in Windows, Linux, and Mac Memory (2014).pdf\n",
      "Successfully processed 4581 chunks from /Users/shivanshmahajan/Desktop/Cyber/the_content/The Art of Memory Forensics - Detecting Malware and Threats in Windows, Linux, and Mac Memory (2014).pdf\n",
      "Processing PDF: /Users/shivanshmahajan/Desktop/Cyber/the_content/toaz.info-microsoft-azure-security-infrastructurepdf-pr_50e3674a0afdba0a3618b37253252f86.pdf\n",
      "Successfully processed 1039 chunks from /Users/shivanshmahajan/Desktop/Cyber/the_content/toaz.info-microsoft-azure-security-infrastructurepdf-pr_50e3674a0afdba0a3618b37253252f86.pdf\n",
      "Processing PDF: /Users/shivanshmahajan/Desktop/Cyber/the_content/77 . Dr_Anthony_Tarantino.pdf\n",
      "Successfully processed 6167 chunks from /Users/shivanshmahajan/Desktop/Cyber/the_content/77 . Dr_Anthony_Tarantino.pdf\n",
      "Processing PDF: /Users/shivanshmahajan/Desktop/Cyber/the_content/dokumen.pub_open-source-intelligence-techniques-resources-for-searching-and-analyzing-online-information-6nbsped-1984201573-9781984201577.pdf\n",
      "Successfully processed 2815 chunks from /Users/shivanshmahajan/Desktop/Cyber/the_content/dokumen.pub_open-source-intelligence-techniques-resources-for-searching-and-analyzing-online-information-6nbsped-1984201573-9781984201577.pdf\n",
      "Processing PDF: /Users/shivanshmahajan/Desktop/Cyber/the_content/CDR V5N1 - FULL_WEB_1.pdf\n",
      "Successfully processed 1245 chunks from /Users/shivanshmahajan/Desktop/Cyber/the_content/CDR V5N1 - FULL_WEB_1.pdf\n",
      "Processing PDF: /Users/shivanshmahajan/Desktop/Cyber/the_content/container-security-fundamental-technology-concepts-that-protect-containerized-applications-1nbsped-1492056707-9781492056706_compress.pdf\n",
      "Successfully processed 975 chunks from /Users/shivanshmahajan/Desktop/Cyber/the_content/container-security-fundamental-technology-concepts-that-protect-containerized-applications-1nbsped-1492056707-9781492056706_compress.pdf\n",
      "Processing PDF: /Users/shivanshmahajan/Desktop/Cyber/the_content/Practical-Linux-Forensics-A-Guide-for-Digital-Investigators.pdf\n",
      "Successfully processed 1901 chunks from /Users/shivanshmahajan/Desktop/Cyber/the_content/Practical-Linux-Forensics-A-Guide-for-Digital-Investigators.pdf\n",
      "Processing PDF: /Users/shivanshmahajan/Desktop/Cyber/the_content/IT Governance An International Guide to Data Security and ISO27001ISO27002 by Alan Calder, Steve Watkins (z-lib.org).pdf\n",
      "Successfully processed 2144 chunks from /Users/shivanshmahajan/Desktop/Cyber/the_content/IT Governance An International Guide to Data Security and ISO27001ISO27002 by Alan Calder, Steve Watkins (z-lib.org).pdf\n",
      "Processing PDF: /Users/shivanshmahajan/Desktop/Cyber/the_content/The Web Application Hacker_s Handbook - Finding and Exploiting Security Flaws, 2nd Edition by Dafydd Stuttard, Marcus Pinto.pdf\n",
      "Successfully processed 4804 chunks from /Users/shivanshmahajan/Desktop/Cyber/the_content/The Web Application Hacker_s Handbook - Finding and Exploiting Security Flaws, 2nd Edition by Dafydd Stuttard, Marcus Pinto.pdf\n",
      "Processing PDF: /Users/shivanshmahajan/Desktop/Cyber/the_content/978-620-6-76822-7-11.pdf\n",
      "Successfully processed 1625 chunks from /Users/shivanshmahajan/Desktop/Cyber/the_content/978-620-6-76822-7-11.pdf\n",
      "Total documents loaded: 95952\n"
     ]
    }
   ],
   "source": [
    "# Example call to the load_and_split_pdfs function\n",
    "pdf_directory = \"/Users/shivanshmahajan/Desktop/Cyber/the_content\"  # Replace with your actual PDF directory path\n",
    "chunk_size = 500  # You can adjust the chunk size as needed\n",
    "chunk_overlap = 50  # You can adjust the chunk overlap as needed\n",
    "\n",
    "# Call the function\n",
    "all_documents = load_and_split_pdfs(pdf_directory, chunk_size, chunk_overlap)\n",
    "\n",
    "# Optionally, print the number of documents loaded\n",
    "print(f\"Total documents loaded: {len(all_documents)}\")"
   ]
  },
  {
   "cell_type": "code",
   "execution_count": 20,
   "metadata": {},
   "outputs": [],
   "source": [
    "# initiate embeddings model\n",
    "embeddings = OpenAIEmbeddings(model=\"text-embedding-3-small\")\n"
   ]
  },
  {
   "cell_type": "code",
   "execution_count": null,
   "metadata": {},
   "outputs": [],
   "source": [
    "from langchain_community.vectorstores import SupabaseVectorStore\n",
    "vector_store = SupabaseVectorStore.from_documents(\n",
    "    all_documents,\n",
    "    embeddings,\n",
    "    client=supabase,\n",
    "    table_name=\"documents\",\n",
    "    query_name=\"match_documents\",\n",
    "    chunk_size=1000,\n",
    ")"
   ]
  },
  {
   "cell_type": "code",
   "execution_count": null,
   "metadata": {},
   "outputs": [],
   "source": []
  }
 ],
 "metadata": {
  "kernelspec": {
   "display_name": "venv",
   "language": "python",
   "name": "python3"
  },
  "language_info": {
   "codemirror_mode": {
    "name": "ipython",
    "version": 3
   },
   "file_extension": ".py",
   "mimetype": "text/x-python",
   "name": "python",
   "nbconvert_exporter": "python",
   "pygments_lexer": "ipython3",
   "version": "3.11.1"
  }
 },
 "nbformat": 4,
 "nbformat_minor": 2
}
